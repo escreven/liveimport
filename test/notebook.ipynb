{
 "cells": [
  {
   "cell_type": "markdown",
   "metadata": {},
   "source": [
    "Test liveimport notebook integration.  The notebook is intended to be run by a\n",
    "script (`integration.py`, itself usually run by `main.py` as part of a suite),\n",
    "but can also be run manually.\n",
    "\n",
    "Code cells include declarations observed by `integration.py`.\n",
    "\n",
    "|Declaration|Tester should ...|\n",
    "|---|-------|\n",
    "|`#@ reload` *module*| Expect a Markdown output line \"Reloaded *module* ...\" |\n",
    "|`#@ error` *ExceptionType*| Expect an error output for *ExceptionType* |\n",
    "|`#@ missingok` | Expect no \"OK\" Markdown output |\n",
    "|`#@ presleep *seconds*` | Sleep for *seconds* before executing cell |\n",
    "\n",
    "A scripted test fails if a code cell does not have an \"OK\" Markdown output\n",
    "unless that cell has a `#@ missingok` directive.  `#@ reload` and `@# error`\n",
    "declarations are exclusive; the tester both requires those reloads and errors\n",
    "and permits no others.  Furthermore, the order of reloads and errors in the\n",
    "output must match the order of their respective declarations.\n",
    "\n",
    "Manual testing procedure:\n",
    "\n",
    "1. Clear all cell output\n",
    "2. Restart the server\n",
    "3. Run all cells\n",
    "\n",
    "The notebook is designed to work without #2, but it is probably best for\n",
    "certainty.\n",
    "\n",
    "To evaluate the result, look through the outputs and make sure they match the\n",
    "declarations at the end of each code cell.  Be aware that some cells should\n",
    "include tracebacks when the test passes.\n",
    "\n",
    "There is one test that is effectively disabled when running manually:\n",
    "\"Automatic Syncing with Non-zero Grace\".  It depends on a delay between cell\n",
    "executions which doesn't happen when running the entire notebook."
   ]
  },
  {
   "cell_type": "code",
   "execution_count": null,
   "metadata": {},
   "outputs": [],
   "source": [
    "import liveimport\n",
    "from IPython.display import Markdown\n",
    "\n",
    "from common import *\n",
    "\n",
    "describe_environment()\n",
    "\n",
    "# globals() access means this can't be defined in setup\n",
    "def is_registered(modulename:str, name:str|None=None, asname:str|None=None):\n",
    "    return liveimport._is_registered(globals(),modulename,name,asname)\n",
    "\n",
    "def ok():\n",
    "    display(Markdown(\"OK\"))\n",
    "\n",
    "ok()\n",
    "\n",
    "#\n",
    "# integrate.py appends \"SCRIPTED_TEST = True\" to this cell when running the\n",
    "# notebook.  We use this to enable the one test that cannot be made to work by\n",
    "# running the entire notebook manually.\n",
    "#\n",
    "\n",
    "SCRIPTED_TEST = False"
   ]
  },
  {
   "cell_type": "markdown",
   "metadata": {},
   "source": [
    "### Explicit Registration"
   ]
  },
  {
   "cell_type": "markdown",
   "metadata": {},
   "source": [
    "#### With grace=1.0"
   ]
  },
  {
   "cell_type": "code",
   "execution_count": null,
   "metadata": {},
   "outputs": [],
   "source": [
    "#\n",
    "# Register using the three different import statement forms.\n",
    "#\n",
    "# [See coreapi.test_three_forms().]\n",
    "#\n",
    "\n",
    "liveimport.register(globals(),\"\"\"\n",
    "import mod1\n",
    "from mod2 import mod2_public1, mod2_public2 as mod2_public2_alias\n",
    "from mod3 import *\n",
    "from mod4 import *\n",
    "\"\"\", clear=True)\n",
    "\n",
    "assert is_registered('mod1')\n",
    "assert is_registered('mod2','mod2_public1')\n",
    "assert is_registered('mod2','mod2_public2','mod2_public2_alias')\n",
    "assert is_registered('mod3','*')\n",
    "assert is_registered('mod4','*')\n",
    "assert not is_registered('mod1','*')\n",
    "assert not is_registered('mod1','mod1_public1')\n",
    "assert not is_registered('mod2','*')\n",
    "assert not is_registered('mod2','mod2_public2')\n",
    "assert not is_registered('mod2','mod2_public3')\n",
    "assert not is_registered('mod3','mod3_public1')\n",
    "assert not is_registered('mod4','mod4_public1')\n",
    "\n",
    "ok()"
   ]
  },
  {
   "cell_type": "code",
   "execution_count": null,
   "metadata": {},
   "outputs": [],
   "source": [
    "#\n",
    "# Prepare for next cell\n",
    "#\n",
    "\n",
    "mod1_tag = get_tag(\"mod1\")\n",
    "mod2_tag = get_tag(\"mod2\")\n",
    "mod3_tag = get_tag(\"mod3\")\n",
    "mod4_tag = get_tag(\"mod4\")\n",
    "\n",
    "touch_module(\"mod1\")\n",
    "touch_module(\"mod2\")\n",
    "touch_module(\"mod3\")\n",
    "touch_module(\"mod4\")\n",
    "\n",
    "ok()"
   ]
  },
  {
   "cell_type": "code",
   "execution_count": null,
   "metadata": {},
   "outputs": [],
   "source": [
    "#\n",
    "# Updated modules should NOT trigger auto sync because the grace period\n",
    "# has not expired.\n",
    "#\n",
    "\n",
    "expect_tag(\"mod1\",mod1_tag)\n",
    "expect_tag(\"mod2\",mod2_tag)\n",
    "expect_tag(\"mod3\",mod3_tag)\n",
    "expect_tag(\"mod4\",mod4_tag)\n",
    "\n",
    "ok()"
   ]
  },
  {
   "cell_type": "markdown",
   "metadata": {},
   "source": [
    "#### With grace=0.0\n",
    "\n",
    "Setting grace to zero enables us to trigger autosync when running straight\n",
    "through."
   ]
  },
  {
   "cell_type": "code",
   "execution_count": null,
   "metadata": {},
   "outputs": [],
   "source": [
    "#\n",
    "# Prepare for the next cell.  \n",
    "#\n",
    "\n",
    "liveimport.auto_sync(grace=0.0)\n",
    "\n",
    "ok()"
   ]
  },
  {
   "cell_type": "code",
   "execution_count": null,
   "metadata": {},
   "outputs": [],
   "source": [
    "#\n",
    "# All registered modules should have automatically reloaded.\n",
    "#\n",
    "\n",
    "expect_tag(\"mod1\",next_tag(mod1_tag))\n",
    "expect_tag(\"mod2\", next_tag(mod2_tag))\n",
    "expect_tag(\"mod3\",next_tag(mod3_tag))\n",
    "expect_tag(\"mod4\",next_tag(mod4_tag))\n",
    "\n",
    "ok()\n",
    "\n",
    "#@ reload mod1\n",
    "#@ reload mod2\n",
    "#@ reload mod3\n",
    "#@ reload mod4"
   ]
  },
  {
   "cell_type": "code",
   "execution_count": null,
   "metadata": {},
   "outputs": [],
   "source": [
    "#\n",
    "# Prepare for next cell\n",
    "#\n",
    "\n",
    "mod1_tag = get_tag(\"mod1\")\n",
    "mod2_tag = get_tag(\"mod2\")\n",
    "mod3_tag = get_tag(\"mod3\")\n",
    "mod4_tag = get_tag(\"mod4\")\n",
    "\n",
    "touch_module(\"mod2\")\n",
    "\n",
    "ok()"
   ]
  },
  {
   "cell_type": "code",
   "execution_count": null,
   "metadata": {},
   "outputs": [],
   "source": [
    "#\n",
    "# Only mod2 should have reloaded.\n",
    "#\n",
    "\n",
    "expect_tag(\"mod1\",mod1_tag)\n",
    "expect_tag(\"mod2\",next_tag(mod2_tag))\n",
    "expect_tag(\"mod3\",mod3_tag)\n",
    "expect_tag(\"mod4\",mod4_tag)\n",
    "ok()\n",
    "\n",
    "#@ reload mod2"
   ]
  },
  {
   "cell_type": "markdown",
   "metadata": {},
   "source": [
    "#### Errors in underlying modules"
   ]
  },
  {
   "cell_type": "code",
   "execution_count": null,
   "metadata": {},
   "outputs": [],
   "source": [
    "#\n",
    "# Make a registered module syntactically invalid.\n",
    "#\n",
    "\n",
    "assert is_registered(\"mod1\")\n",
    "\n",
    "modify_module(\"mod1\",postscript=\"not valid python\")\n",
    "\n",
    "ok()"
   ]
  },
  {
   "cell_type": "code",
   "execution_count": null,
   "metadata": {},
   "outputs": [],
   "source": [
    "#\n",
    "# There should be a syntax error here when liveimport attempts to automatically\n",
    "# sync the module.\n",
    "#\n",
    "\n",
    "ok()\n",
    "\n",
    "#@ error SyntaxError"
   ]
  },
  {
   "cell_type": "code",
   "execution_count": null,
   "metadata": {},
   "outputs": [],
   "source": [
    "#\n",
    "# There should again be a syntax error here because it hasn't been fixed yet.\n",
    "# We do fix it now.\n",
    "#\n",
    "\n",
    "restore_module(\"mod1\")\n",
    "ok()\n",
    "\n",
    "#@ error SyntaxError"
   ]
  },
  {
   "cell_type": "code",
   "execution_count": null,
   "metadata": {},
   "outputs": [],
   "source": [
    "#\n",
    "# Module mod1 should have automatically synced without an error.  However, we\n",
    "# update it to raise a RuntimeError exception.\n",
    "#\n",
    "\n",
    "modify_module(\"mod1\",postscript=\"raise RuntimeError('as expected')\")\n",
    "\n",
    "ok()\n",
    "\n",
    "#@ reload mod1"
   ]
  },
  {
   "cell_type": "code",
   "execution_count": null,
   "metadata": {},
   "outputs": [],
   "source": [
    "#\n",
    "# There should be a runtime error here when liveimport attempts to\n",
    "# automatically sync the module.\n",
    "#\n",
    "\n",
    "ok()\n",
    "\n",
    "#@ error RuntimeError"
   ]
  },
  {
   "cell_type": "code",
   "execution_count": null,
   "metadata": {},
   "outputs": [],
   "source": [
    "#\n",
    "# There should again be a runtime error here because it hasn't been fixed yet.\n",
    "# We do fix it now.\n",
    "#\n",
    "\n",
    "restore_module(\"mod1\")\n",
    "\n",
    "ok()\n",
    "\n",
    "#@ error RuntimeError"
   ]
  },
  {
   "cell_type": "code",
   "execution_count": null,
   "metadata": {},
   "outputs": [],
   "source": [
    "#\n",
    "# Module unreliable should automatically synced without an error.  \n",
    "#\n",
    "\n",
    "ok()\n",
    "\n",
    "#@ reload mod1"
   ]
  },
  {
   "cell_type": "markdown",
   "metadata": {},
   "source": [
    "### Cell magic"
   ]
  },
  {
   "cell_type": "markdown",
   "metadata": {},
   "source": [
    "#### Normal magic"
   ]
  },
  {
   "cell_type": "code",
   "execution_count": null,
   "metadata": {},
   "outputs": [],
   "source": [
    "#\n",
    "# Reset, except leave grace at zero.\n",
    "#\n",
    "\n",
    "liveimport.register(globals(),\"\",clear=True)\n",
    "liveimport.auto_sync(enabled=True,grace=0.0)\n",
    "liveimport.hidden_cell_magic(enabled=False)\n",
    "body_ran = False\n",
    "ok()"
   ]
  },
  {
   "cell_type": "code",
   "execution_count": null,
   "metadata": {},
   "outputs": [],
   "source": [
    "%%liveimport\n",
    "import mod1\n",
    "from mod2 import mod2_public1, mod2_public2 as mod2_public2_alias\n",
    "from mod3 import *\n",
    "from mod4 import *\n",
    "body_ran = True\n",
    "ok()"
   ]
  },
  {
   "cell_type": "code",
   "execution_count": null,
   "metadata": {},
   "outputs": [],
   "source": [
    "#\n",
    "# Verify registrations above, and also that the code executed.\n",
    "#\n",
    "\n",
    "assert is_registered('mod1')\n",
    "assert is_registered('mod2','mod2_public1')\n",
    "assert is_registered('mod2','mod2_public2','mod2_public2_alias')\n",
    "assert is_registered('mod3','*')\n",
    "assert is_registered('mod4','*')\n",
    "assert not is_registered('mod1','*')\n",
    "assert not is_registered('mod1','mod1_public1')\n",
    "assert not is_registered('mod2','*')\n",
    "assert not is_registered('mod2','mod2_public2')\n",
    "assert not is_registered('mod2','mod2_public3')\n",
    "assert not is_registered('mod3','mod3_public1')\n",
    "assert not is_registered('mod4','mod4_public1')\n",
    "assert body_ran\n",
    "\n",
    "ok()"
   ]
  },
  {
   "cell_type": "code",
   "execution_count": null,
   "metadata": {},
   "outputs": [],
   "source": [
    "#\n",
    "# Prepare for next cell\n",
    "#\n",
    "\n",
    "mod1_tag = get_tag(\"mod1\")\n",
    "mod2_tag = get_tag(\"mod2\")\n",
    "mod3_tag = get_tag(\"mod3\")\n",
    "mod4_tag = get_tag(\"mod4\")\n",
    "\n",
    "touch_module(\"mod1\")\n",
    "touch_module(\"mod2\")\n",
    "touch_module(\"mod3\")\n",
    "touch_module(\"mod4\")\n",
    "\n",
    "ok()"
   ]
  },
  {
   "cell_type": "code",
   "execution_count": null,
   "metadata": {},
   "outputs": [],
   "source": [
    "#\n",
    "# All registered modules should have automatically reloaded.\n",
    "#\n",
    "\n",
    "expect_tag(\"mod1\",next_tag(mod1_tag))\n",
    "expect_tag(\"mod2\",next_tag(mod2_tag))\n",
    "expect_tag(\"mod3\",next_tag(mod3_tag))\n",
    "expect_tag(\"mod4\",next_tag(mod4_tag))\n",
    "\n",
    "ok()\n",
    "\n",
    "#@ reload mod1\n",
    "#@ reload mod2\n",
    "#@ reload mod3\n",
    "#@ reload mod4"
   ]
  },
  {
   "cell_type": "code",
   "execution_count": null,
   "metadata": {},
   "outputs": [],
   "source": [
    "%%liveimport --clear\n",
    "import mod1\n",
    "ok()"
   ]
  },
  {
   "cell_type": "code",
   "execution_count": null,
   "metadata": {},
   "outputs": [],
   "source": [
    "#\n",
    "# Verify --clear option of %%livemagic\n",
    "#\n",
    "\n",
    "assert is_registered('mod1')\n",
    "assert not is_registered('mod2')\n",
    "assert not is_registered('mod3')\n",
    "assert not is_registered('mod4')\n",
    "ok()"
   ]
  },
  {
   "cell_type": "code",
   "execution_count": null,
   "metadata": {},
   "outputs": [],
   "source": [
    "%%liveimport\n",
    "from mod2 import mod2_public1\n",
    "raise RuntimeError(\"Intentional exception\")\n",
    "\n",
    "#@ error RuntimeError\n",
    "#@ missingok"
   ]
  },
  {
   "cell_type": "code",
   "execution_count": null,
   "metadata": {},
   "outputs": [],
   "source": [
    "#\n",
    "# Verify that an exception in a %%liveimport cell prevents any registration\n",
    "#\n",
    "\n",
    "assert not is_registered(\"mod2\")\n",
    "ok()"
   ]
  },
  {
   "cell_type": "markdown",
   "metadata": {},
   "source": [
    "#### Hidden magic"
   ]
  },
  {
   "cell_type": "code",
   "execution_count": null,
   "metadata": {},
   "outputs": [],
   "source": [
    "#_%%liveimport\n",
    "# pyright: reportMissingImports=false\n",
    "from mod3 import *\n",
    "ok()"
   ]
  },
  {
   "cell_type": "code",
   "execution_count": null,
   "metadata": {},
   "outputs": [],
   "source": [
    "#\n",
    "# Verify hidden cell magic not enabled.\n",
    "#\n",
    "\n",
    "assert not is_registered('mod3')\n",
    "ok()"
   ]
  },
  {
   "cell_type": "code",
   "execution_count": null,
   "metadata": {},
   "outputs": [],
   "source": [
    "#\n",
    "# Enable hidden cell magic\n",
    "#\n",
    "\n",
    "liveimport.hidden_cell_magic(enabled=True)\n",
    "body_ran = False\n",
    "ok()"
   ]
  },
  {
   "cell_type": "code",
   "execution_count": null,
   "metadata": {},
   "outputs": [],
   "source": [
    "#_%%liveimport\n",
    "# pyright: reportMissingImports=false\n",
    "from mod3 import *\n",
    "body_ran = True\n",
    "ok()"
   ]
  },
  {
   "cell_type": "code",
   "execution_count": null,
   "metadata": {},
   "outputs": [],
   "source": [
    "#\n",
    "# Verify hidden cell magic is enabled.\n",
    "#\n",
    "assert body_ran\n",
    "assert is_registered('mod3')\n",
    "ok()"
   ]
  },
  {
   "cell_type": "markdown",
   "metadata": {},
   "source": [
    "### Imports from Packages\n",
    "\n",
    "Just in case there is something different about how notebook namespaces are\n",
    "managed."
   ]
  },
  {
   "cell_type": "code",
   "execution_count": null,
   "metadata": {},
   "outputs": [],
   "source": [
    "#\n",
    "# Registration of modules in packages.\n",
    "#\n",
    "\n",
    "liveimport.register(globals(),\"\"\"\n",
    "import pkg.smod1\n",
    "from pkg.smod2 import smod2_public1\n",
    "from pkg.smod3 import *\n",
    "\"\"\", clear=True)\n",
    "\n",
    "assert is_registered(\"pkg.smod1\")\n",
    "assert is_registered(\"pkg.smod2\",\"smod2_public1\")\n",
    "assert is_registered(\"pkg.smod3\",\"*\")\n",
    "\n",
    "liveimport.hidden_cell_magic(enabled=True)\n",
    "\n",
    "ok()"
   ]
  },
  {
   "cell_type": "code",
   "execution_count": null,
   "metadata": {},
   "outputs": [],
   "source": [
    "#\n",
    "# Verify syncing of updated modules in packages\n",
    "#\n",
    "\n",
    "smod1_tag = get_tag(\"pkg.smod1\")\n",
    "smod2_tag = get_tag(\"pkg.smod2\")\n",
    "smod3_tag = get_tag(\"pkg.smod3\")\n",
    "\n",
    "touch_module(\"pkg.smod1\")\n",
    "touch_module(\"pkg.smod2\")\n",
    "touch_module(\"pkg.smod3\")\n",
    "\n",
    "liveimport.sync()\n",
    "\n",
    "expect_tag(\"pkg.smod1\",next_tag(smod1_tag))\n",
    "expect_tag(\"pkg.smod2\",next_tag(smod2_tag))\n",
    "expect_tag(\"pkg.smod3\",next_tag(smod3_tag))\n",
    "\n",
    "ok()"
   ]
  },
  {
   "cell_type": "code",
   "execution_count": null,
   "metadata": {},
   "outputs": [],
   "source": [
    "#\n",
    "# Prepare to verify cell magic\n",
    "#\n",
    "\n",
    "liveimport.register(globals(),\"\",clear=True)\n",
    "assert not is_registered(\"pkg.smod1\")\n",
    "assert not is_registered(\"pkg.smod2\")\n",
    "ok()"
   ]
  },
  {
   "cell_type": "code",
   "execution_count": null,
   "metadata": {},
   "outputs": [],
   "source": [
    "%%liveimport --clear\n",
    "import pkg.smod1\n",
    "ok()"
   ]
  },
  {
   "cell_type": "code",
   "execution_count": null,
   "metadata": {},
   "outputs": [],
   "source": [
    "#\n",
    "# Verify normal cell magic for modules in packages\n",
    "#\n",
    "\n",
    "assert is_registered(\"pkg.smod1\")\n",
    "ok()"
   ]
  },
  {
   "cell_type": "code",
   "execution_count": null,
   "metadata": {},
   "outputs": [],
   "source": [
    "#_%%liveimport --clear\n",
    "# pyright: reportMissingImports=false\n",
    "from pkg.smod2 import smod2_public1\n",
    "ok()"
   ]
  },
  {
   "cell_type": "code",
   "execution_count": null,
   "metadata": {},
   "outputs": [],
   "source": [
    "#\n",
    "# Verify hidden cell magic for modules in packages\n",
    "#\n",
    "\n",
    "assert is_registered(\"pkg.smod2\")\n",
    "ok()"
   ]
  },
  {
   "cell_type": "markdown",
   "metadata": {},
   "source": [
    "### Auto Syncing Options."
   ]
  },
  {
   "cell_type": "markdown",
   "metadata": {},
   "source": [
    "#### Auto Sync Disabled\n",
    "\n",
    "We have already verified automatic syncing above.  Now verify automatic syncing\n",
    "can be disabled and that explicit syncing works."
   ]
  },
  {
   "cell_type": "code",
   "execution_count": null,
   "metadata": {},
   "outputs": [],
   "source": [
    "#\n",
    "# Disable auto syncing and prepare to verifying that it is off.\n",
    "#\n",
    "\n",
    "liveimport.auto_sync(enabled=False)\n",
    "\n",
    "liveimport.register(globals(), \"import mod1\", clear=True)\n",
    "mod1_tag = get_tag(\"mod1\")\n",
    "touch_module(\"mod1\")\n",
    "\n",
    "ok()"
   ]
  },
  {
   "cell_type": "code",
   "execution_count": null,
   "metadata": {},
   "outputs": [],
   "source": [
    "#\n",
    "# There should have been no reloading since autosync is disabled.  But an\n",
    "# explicit sync should reload.\n",
    "#\n",
    "\n",
    "expect_tag(\"mod1\",mod1_tag)\n",
    "\n",
    "liveimport.sync()\n",
    "\n",
    "expect_tag(\"mod1\",next_tag(mod1_tag))\n",
    "\n",
    "ok()\n",
    "\n",
    "liveimport.auto_sync(enabled=True)"
   ]
  },
  {
   "cell_type": "markdown",
   "metadata": {},
   "source": [
    "#### No Auto Sync Reporting"
   ]
  },
  {
   "cell_type": "code",
   "execution_count": null,
   "metadata": {},
   "outputs": [],
   "source": [
    "#\n",
    "# Disable reporting and touch mod1.\n",
    "#\n",
    "\n",
    "liveimport.auto_sync(report=False)\n",
    "\n",
    "liveimport.register(globals(), \"import mod1\", clear=True)\n",
    "mod1_tag = get_tag(\"mod1\")\n",
    "touch_module(\"mod1\")\n",
    "\n",
    "ok()"
   ]
  },
  {
   "cell_type": "code",
   "execution_count": null,
   "metadata": {},
   "outputs": [],
   "source": [
    "#\n",
    "# Should have synced, but there should be no \"Reloaded ...\" message.\n",
    "#\n",
    "\n",
    "expect_tag(\"mod1\",next_tag(mod1_tag))\n",
    "\n",
    "liveimport.auto_sync(report=True)\n",
    "\n",
    "ok()"
   ]
  },
  {
   "cell_type": "markdown",
   "metadata": {},
   "source": [
    "#### Automatic Syncing with Non-zero Grace "
   ]
  },
  {
   "cell_type": "code",
   "execution_count": null,
   "metadata": {},
   "outputs": [],
   "source": [
    "#\n",
    "# See below.\n",
    "#\n",
    "\n",
    "MANUAL_STEP_BY_STEP = False\n",
    "ok()"
   ]
  },
  {
   "cell_type": "code",
   "execution_count": null,
   "metadata": {},
   "outputs": [],
   "source": [
    "#\n",
    "# Go back to non-zero grace, 250 milliseconds.\n",
    "#\n",
    "\n",
    "if SCRIPTED_TEST or MANUAL_STEP_BY_STEP:\n",
    "    liveimport.auto_sync(grace=0.25)\n",
    "    mod1_tag = get_tag(\"mod1\")\n",
    "    touch_module(\"mod1\")\n",
    "\n",
    "ok()"
   ]
  },
  {
   "cell_type": "code",
   "execution_count": null,
   "metadata": {},
   "outputs": [],
   "source": [
    "#\n",
    "# No presleep declaration, so there should be no reload.\n",
    "#\n",
    "\n",
    "if SCRIPTED_TEST:\n",
    "    expect_tag(\"mod1\",mod1_tag)\n",
    "\n",
    "ok()"
   ]
  },
  {
   "cell_type": "code",
   "execution_count": null,
   "metadata": {},
   "outputs": [],
   "source": [
    "#\n",
    "# Pre-run sleep of 500 milliseconds, so expect a reload.\n",
    "#\n",
    "\n",
    "if SCRIPTED_TEST or MANUAL_STEP_BY_STEP:\n",
    "    expect_tag(\"mod1\",next_tag(mod1_tag))\n",
    "\n",
    "ok()\n",
    "\n",
    "#@ presleep 0.5\n",
    "#@ reload mod1"
   ]
  },
  {
   "cell_type": "code",
   "execution_count": null,
   "metadata": {},
   "outputs": [],
   "source": [
    "#\n",
    "# While you can't run the automatic syncing non-zero grace test manually by\n",
    "# running the entire notebook, you can partially run it by stepping through\n",
    "# each cell one at a time, assuming the inter-cell delay is more then 250\n",
    "# milliseconds.  \n",
    "#\n",
    "# Procedure:\n",
    "#\n",
    "#   1. Run this cell, or just run the entire notebook.\n",
    "#\n",
    "#   2. Run the two cells between \"MANUAL_STEP_BY_STEP = True\" cell and this one\n",
    "#      that include \"if ... or MANUAL_STEP_BY_STEP\" in order.\n",
    "# \n",
    "#   3. Observe the output of the last cell you ran.\n",
    "#\n",
    "\n",
    "MANUAL_STEP_BY_STEP = True\n",
    "ok()"
   ]
  },
  {
   "cell_type": "markdown",
   "metadata": {},
   "source": [
    "### End of Tests"
   ]
  },
  {
   "cell_type": "code",
   "execution_count": null,
   "metadata": {},
   "outputs": [],
   "source": [
    "#\n",
    "# Reset configuration back to default for reruns.\n",
    "#\n",
    "\n",
    "liveimport.auto_sync(enabled=True, grace=1.0, report=True)\n",
    "liveimport.hidden_cell_magic(enabled=False)\n",
    "ok()"
   ]
  }
 ],
 "metadata": {
  "kernelspec": {
   "display_name": "Python 3",
   "language": "python",
   "name": "python3"
  },
  "language_info": {
   "codemirror_mode": {
    "name": "ipython",
    "version": 3
   },
   "file_extension": ".py",
   "mimetype": "text/x-python",
   "name": "python",
   "nbconvert_exporter": "python",
   "pygments_lexer": "ipython3",
   "version": "3.12.7"
  },
  "orig_nbformat": 4
 },
 "nbformat": 4,
 "nbformat_minor": 2
}
